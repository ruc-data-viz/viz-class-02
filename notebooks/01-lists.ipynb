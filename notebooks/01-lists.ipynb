{
 "cells": [
  {
   "cell_type": "markdown",
   "metadata": {},
   "source": [
    "## Lists\n",
    "\n",
    "This notebook shows what lists are and very basically how we can use them."
   ]
  },
  {
   "cell_type": "code",
   "execution_count": 1,
   "metadata": {},
   "outputs": [
    {
     "data": {
      "text/plain": [
       "10"
      ]
     },
     "execution_count": 1,
     "metadata": {},
     "output_type": "execute_result"
    }
   ],
   "source": [
    "# here we are defining a variable with a single value representing a distance.\n",
    "# it may be very common for us to want to define many distances, but defining\n",
    "# a separate variable for every distance we may want is not feasible (especially\n",
    "# if we have many distances) and worse, what if we do not know how many distances\n",
    "# we will need\n",
    "\n",
    "distance_m = 10\n",
    "distance_m"
   ]
  },
  {
   "cell_type": "code",
   "execution_count": 2,
   "metadata": {},
   "outputs": [
    {
     "data": {
      "text/plain": [
       "[10, 20, 30]"
      ]
     },
     "execution_count": 2,
     "metadata": {},
     "output_type": "execute_result"
    }
   ],
   "source": [
    "# we can turn to defining a list! a list, as the name implies, is a collection of\n",
    "# values. we create a list by surrounding a set of comma delimted elements by square\n",
    "# braces. below we are defining a variable that is a list of three elements: 10, 20,\n",
    "# and 30.\n",
    "\n",
    "distances_m = [10, 20, 30]\n",
    "distances_m"
   ]
  },
  {
   "cell_type": "code",
   "execution_count": 3,
   "metadata": {},
   "outputs": [
    {
     "name": "stdout",
     "output_type": "stream",
     "text": [
      "10\n",
      "20\n",
      "30\n"
     ]
    }
   ],
   "source": [
    "# we can access the individual elements of a list using the subscript operator,\n",
    "# represented using square braces. this is called indexing into the list. inside\n",
    "# of the square braces we write an integer value. this integer represents the\n",
    "# numerical position of the element in the list, with positions starting at 0.\n",
    "# this means that the maximum position in a list is the length of the list minus\n",
    "# 1. for exmaple, we can access the elements of the list using:\n",
    "\n",
    "print(distances_m[0]) # first element\n",
    "print(distances_m[1]) # second element\n",
    "print(distances_m[2]) # third and last element"
   ]
  },
  {
   "cell_type": "code",
   "execution_count": 4,
   "metadata": {},
   "outputs": [
    {
     "name": "stdout",
     "output_type": "stream",
     "text": [
      "30\n",
      "20\n",
      "10\n"
     ]
    }
   ],
   "source": [
    "# we can also use negative positions to index into a list (still counting form 0)\n",
    "\n",
    "print(distances_m[-1]) # third and last element\n",
    "print(distances_m[-2]) # second element\n",
    "print(distances_m[-3]) # first element"
   ]
  },
  {
   "cell_type": "code",
   "execution_count": 5,
   "metadata": {},
   "outputs": [
    {
     "data": {
      "text/plain": [
       "[]"
      ]
     },
     "execution_count": 5,
     "metadata": {},
     "output_type": "execute_result"
    }
   ],
   "source": [
    "# we can create an empty list by simply using empty square braces when defining the list\n",
    "\n",
    "numbers = []\n",
    "numbers"
   ]
  },
  {
   "cell_type": "code",
   "execution_count": 6,
   "metadata": {},
   "outputs": [
    {
     "data": {
      "text/plain": [
       "[56]"
      ]
     },
     "execution_count": 6,
     "metadata": {},
     "output_type": "execute_result"
    }
   ],
   "source": [
    "# we can add elements to the back of the list using the append function\n",
    "\n",
    "numbers.append(56)\n",
    "numbers"
   ]
  },
  {
   "cell_type": "code",
   "execution_count": 7,
   "metadata": {},
   "outputs": [
    {
     "data": {
      "text/plain": [
       "[56, 10, 20, 30]"
      ]
     },
     "execution_count": 7,
     "metadata": {},
     "output_type": "execute_result"
    }
   ],
   "source": [
    "# we can concatenate two lists using addition - note that thios does not perform element-wise addition!\n",
    "\n",
    "numbers + distances_m"
   ]
  },
  {
   "cell_type": "code",
   "execution_count": 8,
   "metadata": {},
   "outputs": [
    {
     "name": "stdout",
     "output_type": "stream",
     "text": [
      "[56]\n",
      "[10, 20, 30]\n"
     ]
    }
   ],
   "source": [
    "# note that the concatenation above did not modify our list. this is because concatenation creates a new list\n",
    "\n",
    "print(numbers)\n",
    "print(distances_m)"
   ]
  },
  {
   "cell_type": "code",
   "execution_count": 9,
   "metadata": {},
   "outputs": [
    {
     "data": {
      "text/plain": [
       "[56, 10, 20, 30]"
      ]
     },
     "execution_count": 9,
     "metadata": {},
     "output_type": "execute_result"
    }
   ],
   "source": [
    "# if we want to concatenate a list and modify the original, we can use the extend function\n",
    "\n",
    "numbers.extend(distances_m)\n",
    "numbers"
   ]
  },
  {
   "cell_type": "code",
   "execution_count": 10,
   "metadata": {},
   "outputs": [
    {
     "data": {
      "text/plain": [
       "1"
      ]
     },
     "execution_count": 10,
     "metadata": {},
     "output_type": "execute_result"
    }
   ],
   "source": [
    "# when we want to find an element in a list, we use the index function to find the position of that element\n",
    "# in the list. if that element is not in the list then an error is raised by Python\n",
    "\n",
    "numbers.index(10) # this returns 1, because 10 is at position 1 (it is the second element of the list)"
   ]
  },
  {
   "cell_type": "code",
   "execution_count": 11,
   "metadata": {},
   "outputs": [
    {
     "ename": "ValueError",
     "evalue": "74330 is not in list",
     "output_type": "error",
     "traceback": [
      "\u001b[0;31m---------------------------------------------------------------------------\u001b[0m",
      "\u001b[0;31mValueError\u001b[0m                                Traceback (most recent call last)",
      "Cell \u001b[0;32mIn[11], line 1\u001b[0m\n\u001b[0;32m----> 1\u001b[0m numbers\u001b[39m.\u001b[39;49mindex(\u001b[39m74330\u001b[39;49m) \u001b[39m# error!\u001b[39;00m\n",
      "\u001b[0;31mValueError\u001b[0m: 74330 is not in list"
     ]
    }
   ],
   "source": [
    "numbers.index(74330) # error!"
   ]
  },
  {
   "cell_type": "code",
   "execution_count": 12,
   "metadata": {},
   "outputs": [
    {
     "data": {
      "text/plain": [
       "True"
      ]
     },
     "execution_count": 12,
     "metadata": {},
     "output_type": "execute_result"
    }
   ],
   "source": [
    "# if we want to check if a value is in a list, without needing its position, we can use the in-operator.\n",
    "# this returns a bool, True or False, indicating if the value is the list.\n",
    "\n",
    "30 in numbers # True, since 30 is in the list"
   ]
  },
  {
   "cell_type": "code",
   "execution_count": 13,
   "metadata": {},
   "outputs": [
    {
     "data": {
      "text/plain": [
       "[56, 10, 20]"
      ]
     },
     "execution_count": 13,
     "metadata": {},
     "output_type": "execute_result"
    }
   ],
   "source": [
    "# we can also remove elements from the list using the remove function. this will remove the first element\n",
    "# encountered that has the specified value. if that value is not in the list, then an error is raised\n",
    "\n",
    "numbers.remove(30)\n",
    "numbers"
   ]
  },
  {
   "cell_type": "code",
   "execution_count": 14,
   "metadata": {},
   "outputs": [
    {
     "data": {
      "text/plain": [
       "[1, 2, 3, 4]"
      ]
     },
     "execution_count": 14,
     "metadata": {},
     "output_type": "execute_result"
    }
   ],
   "source": [
    "# lets reset our list of numbers to a new list\n",
    "\n",
    "numbers = [1, 2, 3, 4]\n",
    "numbers"
   ]
  },
  {
   "cell_type": "code",
   "execution_count": 15,
   "metadata": {},
   "outputs": [
    {
     "name": "stdout",
     "output_type": "stream",
     "text": [
      "[1, 2, 3]\n",
      "4\n"
     ]
    }
   ],
   "source": [
    "# pop is a function that removes an element from the list and returns it. below we are popping off the\n",
    "# last element and storing it in a new variable named last \n",
    "\n",
    "last = numbers.pop()\n",
    "print(numbers)\n",
    "print(last)"
   ]
  },
  {
   "cell_type": "code",
   "execution_count": 16,
   "metadata": {},
   "outputs": [
    {
     "data": {
      "text/plain": [
       "1"
      ]
     },
     "execution_count": 16,
     "metadata": {},
     "output_type": "execute_result"
    }
   ],
   "source": [
    "# the pop function, just like the subscript operator, can take in a position of an element to pop\n",
    "# while providing no element means popping off the last element, we can pop any element we desire\n",
    "\n",
    "numbers.pop(0) # pop the first element"
   ]
  },
  {
   "cell_type": "code",
   "execution_count": 17,
   "metadata": {},
   "outputs": [
    {
     "data": {
      "text/plain": [
       "3"
      ]
     },
     "execution_count": 17,
     "metadata": {},
     "output_type": "execute_result"
    }
   ],
   "source": [
    "# we can also use negative indices to pop elements from a list\n",
    "\n",
    "numbers.pop(-1) # pop the last element"
   ]
  },
  {
   "cell_type": "code",
   "execution_count": 18,
   "metadata": {},
   "outputs": [
    {
     "data": {
      "text/plain": [
       "[1, 1, 2, 3, 3, 4, 5, 5, 5, 6, 8, 9, 9]"
      ]
     },
     "execution_count": 18,
     "metadata": {},
     "output_type": "execute_result"
    }
   ],
   "source": [
    "# we can also sort lists using the sort function. this sorts the list in place in memory, without making any copies\n",
    "\n",
    "numbers = [3, 1, 4, 1, 5, 9, 2, 6, 5, 3, 5, 8, 9]\n",
    "numbers.sort()\n",
    "numbers"
   ]
  },
  {
   "cell_type": "code",
   "execution_count": 19,
   "metadata": {},
   "outputs": [
    {
     "data": {
      "text/plain": [
       "[1, 1, 2, 3, 3, 4, 5, 5, 5, 6, 8, 9, 9]"
      ]
     },
     "execution_count": 19,
     "metadata": {},
     "output_type": "execute_result"
    }
   ],
   "source": [
    "# we can also use the sorted function to sort the list and create a copy\n",
    "\n",
    "numbers = [3, 1, 4, 1, 5, 9, 2, 6, 5, 3, 5, 8, 9]\n",
    "other_numbers = sorted(numbers)\n",
    "other_numbers"
   ]
  },
  {
   "cell_type": "code",
   "execution_count": 20,
   "metadata": {},
   "outputs": [
    {
     "data": {
      "text/plain": [
       "[9, 8, 5, 3, 5, 6, 2, 9, 5, 1, 4, 1, 3]"
      ]
     },
     "execution_count": 20,
     "metadata": {},
     "output_type": "execute_result"
    }
   ],
   "source": [
    "# we can also reverse a list using the reverse function\n",
    "\n",
    "numbers.reverse()\n",
    "numbers"
   ]
  }
 ],
 "metadata": {
  "kernelspec": {
   "display_name": "Python 3",
   "language": "python",
   "name": "python3"
  },
  "language_info": {
   "codemirror_mode": {
    "name": "ipython",
    "version": 3
   },
   "file_extension": ".py",
   "mimetype": "text/x-python",
   "name": "python",
   "nbconvert_exporter": "python",
   "pygments_lexer": "ipython3",
   "version": "3.11.5"
  },
  "orig_nbformat": 4
 },
 "nbformat": 4,
 "nbformat_minor": 2
}

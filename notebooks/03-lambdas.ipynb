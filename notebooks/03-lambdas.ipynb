{
 "cells": [
  {
   "cell_type": "markdown",
   "metadata": {},
   "source": [
    "## Lambdas\n",
    "\n",
    "A simple look at lambdas and how we can use them with sorting and funding vales in lists"
   ]
  },
  {
   "cell_type": "code",
   "execution_count": 10,
   "metadata": {},
   "outputs": [],
   "source": [
    "# lets start off with a list of characters from the office\n",
    "\n",
    "the_office  = ['micheal', 'dwight', 'pam', 'meredith', 'angela', 'jim']"
   ]
  },
  {
   "cell_type": "code",
   "execution_count": 11,
   "metadata": {},
   "outputs": [
    {
     "data": {
      "text/plain": [
       "['angela', 'dwight', 'jim', 'meredith', 'micheal', 'pam']"
      ]
     },
     "execution_count": 11,
     "metadata": {},
     "output_type": "execute_result"
    }
   ],
   "source": [
    "# lets sort them; notice how they are automatically sorted in alphabetical order\n",
    "\n",
    "sorted(the_office)"
   ]
  },
  {
   "cell_type": "code",
   "execution_count": 12,
   "metadata": {},
   "outputs": [
    {
     "data": {
      "text/plain": [
       "['pam', 'jim', 'dwight', 'angela', 'micheal', 'meredith']"
      ]
     },
     "execution_count": 12,
     "metadata": {},
     "output_type": "execute_result"
    }
   ],
   "source": [
    "# what if we wanted to sort them by a metric other than alphabetical? how about sorting by the length of their name?\n",
    "# we can provide a key-function to the sort and sorted functions.\n",
    "#\n",
    "# a key function is a function that takes a single element and transforms it into another value for making comparisons\n",
    "# here, we can pass the len function to get the length of each name, and those lengths are then used for sorting\n",
    "\n",
    "sorted(the_office, key=len)"
   ]
  },
  {
   "cell_type": "code",
   "execution_count": 13,
   "metadata": {},
   "outputs": [
    {
     "data": {
      "text/plain": [
       "['jim', 'pam', 'angela', 'dwight', 'micheal', 'meredith']"
      ]
     },
     "execution_count": 13,
     "metadata": {},
     "output_type": "execute_result"
    }
   ],
   "source": [
    "# what if we want to sort by multiple criteria? we want to sort our names not just by length, but also alphabetically.\n",
    "# in this setup we want short names to come first, and if names have the same length then they should be sorted\n",
    "# alphabetically. we can define our own key-function that returns a tuple.\n",
    "#\n",
    "# a tuple is like a list, but it is unmodifiable (unlike a list). tuples have an interesting feature in that when we\n",
    "# compare tuples using comparison operators, the tuples are compared element by element until a comparison returns true.\n",
    "# this means that we can layer sorting criteria by having our key functions return tuples. the order of the tuple\n",
    "# dictates the ordering of the sorting criteria.\n",
    "#\n",
    "# we can sort by length and then alphabetically by returning a tuple of the length (the first criteria) followed by the\n",
    "# name itself (the second criteria, which in this case is the natural sorting criteria for strings)\n",
    "\n",
    "\n",
    "def alphabetical_length(name):\n",
    "    length = len(name)\n",
    "    return (length, name)\n",
    "\n",
    "sorted(the_office, key=alphabetical_length)"
   ]
  },
  {
   "cell_type": "code",
   "execution_count": 14,
   "metadata": {},
   "outputs": [
    {
     "data": {
      "text/plain": [
       "<function __main__.<lambda>(name)>"
      ]
     },
     "execution_count": 14,
     "metadata": {},
     "output_type": "execute_result"
    }
   ],
   "source": [
    "# rather than defining a whole new function, we can define a lambda. a lambda is a function, just defined slightly differently\n",
    "# and much more compactly. below is a lambda that is identical to the function we defined above\n",
    "\n",
    "alphabetical_length = lambda name: (len(name), name)\n",
    "alphabetical_length"
   ]
  },
  {
   "cell_type": "code",
   "execution_count": 15,
   "metadata": {},
   "outputs": [
    {
     "data": {
      "text/plain": [
       "['jim', 'pam', 'angela', 'dwight', 'micheal', 'meredith']"
      ]
     },
     "execution_count": 15,
     "metadata": {},
     "output_type": "execute_result"
    }
   ],
   "source": [
    "# we use it like a normal function, and here we are using it like a normal\n",
    "\n",
    "sorted(the_office, key=alphabetical_length)"
   ]
  },
  {
   "cell_type": "code",
   "execution_count": 16,
   "metadata": {},
   "outputs": [
    {
     "data": {
      "text/plain": [
       "'pam'"
      ]
     },
     "execution_count": 16,
     "metadata": {},
     "output_type": "execute_result"
    }
   ],
   "source": [
    "# we can also take the max of the list, and for this string this means returning pam (because alphabetically\n",
    "# pam comes last, which means it is the greatest value in the list).\n",
    "\n",
    "max(the_office)"
   ]
  },
  {
   "cell_type": "code",
   "execution_count": 17,
   "metadata": {},
   "outputs": [
    {
     "data": {
      "text/plain": [
       "'meredith'"
      ]
     },
     "execution_count": 17,
     "metadata": {},
     "output_type": "execute_result"
    }
   ],
   "source": [
    "# we can apply the same lambdas as above to find the longest, alphabetically last value in the list\n",
    "\n",
    "max(the_office, key=lambda name: (len(name), name))"
   ]
  },
  {
   "cell_type": "code",
   "execution_count": 18,
   "metadata": {},
   "outputs": [
    {
     "data": {
      "text/plain": [
       "4"
      ]
     },
     "execution_count": 18,
     "metadata": {},
     "output_type": "execute_result"
    }
   ],
   "source": [
    "# lambdas can take an arbitrary number of arguments\n",
    "\n",
    "plus = lambda x,y: x+y\n",
    "plus(1, 3)"
   ]
  },
  {
   "cell_type": "code",
   "execution_count": 19,
   "metadata": {},
   "outputs": [
    {
     "name": "stdout",
     "output_type": "stream",
     "text": [
      "hello!\n"
     ]
    }
   ],
   "source": [
    "# this is a lambda that takes no arguments\n",
    "\n",
    "hi = lambda: print('hello!')\n",
    "hi()"
   ]
  }
 ],
 "metadata": {
  "kernelspec": {
   "display_name": "Python 3",
   "language": "python",
   "name": "python3"
  },
  "language_info": {
   "codemirror_mode": {
    "name": "ipython",
    "version": 3
   },
   "file_extension": ".py",
   "mimetype": "text/x-python",
   "name": "python",
   "nbconvert_exporter": "python",
   "pygments_lexer": "ipython3",
   "version": "3.11.5"
  },
  "orig_nbformat": 4
 },
 "nbformat": 4,
 "nbformat_minor": 2
}

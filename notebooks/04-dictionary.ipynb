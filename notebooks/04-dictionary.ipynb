{
 "cells": [
  {
   "cell_type": "markdown",
   "metadata": {},
   "source": [
    "## Dictionaries\n",
    "\n",
    "A ultra-brief look at dictionaries"
   ]
  },
  {
   "cell_type": "code",
   "execution_count": 2,
   "metadata": {},
   "outputs": [
    {
     "data": {
      "text/plain": [
       "{'green': 'star', 'purple': 'cylinder', 'orange': 'cube'}"
      ]
     },
     "execution_count": 2,
     "metadata": {},
     "output_type": "execute_result"
    }
   ],
   "source": [
    "# a dictionary is a mapping of one set of values to another set of values. below we are\n",
    "# mapping colors to shapes for a toy set. dictionaries are defined using curly braces,\n",
    "# with element pairs defined using a colon (the left of the colon is the key, and the right\n",
    "# of the colon is the value; these are called key-value pairs).\n",
    "\n",
    "shapes = {'green': 'star', 'purple': 'cylinder', 'orange': 'cube'}\n",
    "shapes"
   ]
  },
  {
   "cell_type": "code",
   "execution_count": 3,
   "metadata": {},
   "outputs": [
    {
     "data": {
      "text/plain": [
       "'star'"
      ]
     },
     "execution_count": 3,
     "metadata": {},
     "output_type": "execute_result"
    }
   ],
   "source": [
    "# we can access elements using the subscript operator (square braces) with a key-value.\n",
    "# below we are accessing the shape associated with the color green\n",
    "\n",
    "shapes['green']"
   ]
  },
  {
   "cell_type": "code",
   "execution_count": 4,
   "metadata": {},
   "outputs": [
    {
     "name": "stdout",
     "output_type": "stream",
     "text": [
      "the star is green\n",
      "the cylinder is purple\n",
      "the cube is orange\n"
     ]
    }
   ],
   "source": [
    "# we can also use a for-loop with a dictioary. we can get each key-value pair at once by iterating\n",
    "# over the elements provided by the items function (the items function packs keys and their values\n",
    "# together)\n",
    "\n",
    "for key,value in shapes.items():\n",
    "    print('the {} is {}'.format(value, key))"
   ]
  },
  {
   "cell_type": "code",
   "execution_count": 5,
   "metadata": {},
   "outputs": [
    {
     "data": {
      "text/plain": [
       "{'green': 'star', 'purple': 'cylinder', 'orange': 'cube', 'red': 'X'}"
      ]
     },
     "execution_count": 5,
     "metadata": {},
     "output_type": "execute_result"
    }
   ],
   "source": [
    "# we can also assign new pairs in a dictionary by just assigning a value with the subscript operator\n",
    "\n",
    "shapes['red'] = 'X'\n",
    "shapes"
   ]
  }
 ],
 "metadata": {
  "kernelspec": {
   "display_name": "Python 3",
   "language": "python",
   "name": "python3"
  },
  "language_info": {
   "codemirror_mode": {
    "name": "ipython",
    "version": 3
   },
   "file_extension": ".py",
   "mimetype": "text/x-python",
   "name": "python",
   "nbconvert_exporter": "python",
   "pygments_lexer": "ipython3",
   "version": "3.11.5"
  },
  "orig_nbformat": 4
 },
 "nbformat": 4,
 "nbformat_minor": 2
}

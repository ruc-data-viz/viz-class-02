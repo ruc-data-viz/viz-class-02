{
 "cells": [
  {
   "cell_type": "markdown",
   "metadata": {},
   "source": [
    "## For Loops\n",
    "\n",
    "A simple look at for-loops"
   ]
  },
  {
   "cell_type": "code",
   "execution_count": 12,
   "metadata": {},
   "outputs": [
    {
     "data": {
      "text/plain": [
       "16325.530999999999"
      ]
     },
     "execution_count": 12,
     "metadata": {},
     "output_type": "execute_result"
    }
   ],
   "source": [
    "# when dealing with lists, we often want a means to perform some operation on \n",
    "# every element of the list. a for-loop lets us define a piece of code that\n",
    "# will be applied for every element of some list.\n",
    "\n",
    "# here we have a list of distances, and want to accumulate them into a total\n",
    "# distance. we can naively use a for-loop to visit every distance in the list,\n",
    "# and add its value to a total\n",
    "\n",
    "distances_m = [322.3, 73.1, 9283.301, 6523.03, 123.8]\n",
    "total_distance_m = 0.0\n",
    "for d in distances_m:\n",
    "    total_distance_m += d\n",
    "total_distance_m"
   ]
  },
  {
   "cell_type": "code",
   "execution_count": 13,
   "metadata": {},
   "outputs": [
    {
     "data": {
      "text/plain": [
       "16325.530999999999"
      ]
     },
     "execution_count": 13,
     "metadata": {},
     "output_type": "execute_result"
    }
   ],
   "source": [
    "# some of you will be tempted to do this loop below, where we get a range of\n",
    "# positions to loop over. DO NOT DO THIS! while there are sometimes reasons to\n",
    "# do this, you should generally avoid it! even though this example is simple,\n",
    "# in real-world code writing loops like this can make code very difficult to\n",
    "# maintain!\n",
    "\n",
    "total_distance_m = 0.0\n",
    "for i in range(len(distances_m)):\n",
    "    total_distance_m += distances_m[i]\n",
    "total_distance_m"
   ]
  },
  {
   "cell_type": "code",
   "execution_count": 14,
   "metadata": {},
   "outputs": [
    {
     "data": {
      "text/plain": [
       "16325.530999999999"
      ]
     },
     "execution_count": 14,
     "metadata": {},
     "output_type": "execute_result"
    }
   ],
   "source": [
    "# when it comes to summing a list though, we can and should just use the sum function\n",
    "\n",
    "sum(distances_m)"
   ]
  },
  {
   "cell_type": "code",
   "execution_count": 15,
   "metadata": {},
   "outputs": [
    {
     "data": {
      "text/plain": [
       "9678.701"
      ]
     },
     "execution_count": 15,
     "metadata": {},
     "output_type": "execute_result"
    }
   ],
   "source": [
    "# we can also take slices of a list, using slice notation, selecting elements from the partially open\n",
    "# range [A,B), where A is the inclusive starting position and B is the excluded end position. here we\n",
    "# are selection the range of elements from 0 to 3 (exluding 3). this is allowing us to select a subset\n",
    "# of our list elements.\n",
    "\n",
    "total_distance_m = 0.0\n",
    "for d in distances_m[0:3]:\n",
    "    total_distance_m += d\n",
    "total_distance_m"
   ]
  },
  {
   "cell_type": "code",
   "execution_count": 16,
   "metadata": {},
   "outputs": [
    {
     "data": {
      "text/plain": [
       "['Link', 'Zelda', 'Gannon']"
      ]
     },
     "execution_count": 16,
     "metadata": {},
     "output_type": "execute_result"
    }
   ],
   "source": [
    "# often times we will want to transform one list into another list. we can do this using a list-comprehension\n",
    "# this is a compact way of expressing the creation of a list using a for-loop. below we have a list of names\n",
    "# and we want to capitalize the first letter of each string. strings have a title function that we can call\n",
    "# to return a new string with the first letter of each word capitalized. inside of a set of square braces\n",
    "# we can write a simple for-loop as such:\n",
    "\n",
    "characters = ['link', 'zelda', 'gannon']\n",
    "title_names = [c.title() for c in characters]\n",
    "title_names"
   ]
  },
  {
   "cell_type": "code",
   "execution_count": 17,
   "metadata": {},
   "outputs": [
    {
     "data": {
      "text/plain": [
       "[0.32230000000000003, 0.0731, 9.283301, 6.523029999999999, 0.1238]"
      ]
     },
     "execution_count": 17,
     "metadata": {},
     "output_type": "execute_result"
    }
   ],
   "source": [
    "# we can apply this idea to our distances, and convert all from meters to kilometers\n",
    "\n",
    "distances_km = [d / 1000.0 for d in distances_m]\n",
    "distances_km"
   ]
  },
  {
   "cell_type": "code",
   "execution_count": 18,
   "metadata": {},
   "outputs": [
    {
     "data": {
      "text/plain": [
       "['link', 'zelda', 'gannon']"
      ]
     },
     "execution_count": 18,
     "metadata": {},
     "output_type": "execute_result"
    }
   ],
   "source": [
    "# a list comprehension is almost always superior than a convential for-loop. consider\n",
    "# the following loop that actually does not work\n",
    "\n",
    "characters = ['link', 'zelda', 'gannon']\n",
    "for c in characters:\n",
    "    c = c.title()  # OOPS! this is calling title, but is overriding the iterating variable, not the list element directly!\n",
    "characters"
   ]
  },
  {
   "cell_type": "code",
   "execution_count": 19,
   "metadata": {},
   "outputs": [
    {
     "data": {
      "text/plain": [
       "['Link', 'Zelda', 'Gannon']"
      ]
     },
     "execution_count": 19,
     "metadata": {},
     "output_type": "execute_result"
    }
   ],
   "source": [
    "# this works, but we really dont want to write for-loops like this\n",
    "\n",
    "characters = ['link', 'zelda', 'gannon']\n",
    "for i in range(len(characters)):\n",
    "    characters[i] = characters[i].title()\n",
    "characters"
   ]
  },
  {
   "cell_type": "code",
   "execution_count": 20,
   "metadata": {},
   "outputs": [
    {
     "data": {
      "text/plain": [
       "['Link', 'Zelda', 'Gannon']"
      ]
     },
     "execution_count": 20,
     "metadata": {},
     "output_type": "execute_result"
    }
   ],
   "source": [
    "# we could also copy the transformed elements into a new list using a tranditional loop\n",
    "# and an append, but this is actually less efficient than a list comprehension\n",
    "\n",
    "characters = ['link', 'zelda', 'gannon']\n",
    "title_characters = []\n",
    "for c in characters:\n",
    "    title_characters.append(c.title())\n",
    "title_characters"
   ]
  }
 ],
 "metadata": {
  "kernelspec": {
   "display_name": "Python 3",
   "language": "python",
   "name": "python3"
  },
  "language_info": {
   "codemirror_mode": {
    "name": "ipython",
    "version": 3
   },
   "file_extension": ".py",
   "mimetype": "text/x-python",
   "name": "python",
   "nbconvert_exporter": "python",
   "pygments_lexer": "ipython3",
   "version": "3.11.5"
  },
  "orig_nbformat": 4
 },
 "nbformat": 4,
 "nbformat_minor": 2
}
